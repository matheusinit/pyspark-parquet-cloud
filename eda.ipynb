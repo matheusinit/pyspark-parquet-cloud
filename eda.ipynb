{
 "cells": [
  {
   "cell_type": "markdown",
   "metadata": {},
   "source": [
    "Download Dataset"
   ]
  },
  {
   "cell_type": "code",
   "execution_count": null,
   "metadata": {},
   "outputs": [],
   "source": [
    "from datetime import datetime\n",
    "import os\n",
    "\n",
    "import kagglehub\n",
    "from pyspark.sql import SparkSession\n",
    "from dotenv import load_dotenv\n",
    "import boto3"
   ]
  },
  {
   "cell_type": "code",
   "execution_count": null,
   "metadata": {},
   "outputs": [],
   "source": [
    "repository = \"thedevastator/unlock-profits-with-e-commerce-sales-data\"\n",
    "\n",
    "path = kagglehub.dataset_download(repository)\n",
    "\n",
    "print(\"Path to dataset files:\", path)"
   ]
  },
  {
   "cell_type": "code",
   "execution_count": null,
   "metadata": {},
   "outputs": [],
   "source": [
    "spark = SparkSession \\\n",
    "    .builder \\\n",
    "    .appName(\"Amazon Sales Data\") \\\n",
    "    .config(\"spark.jars.packages\", \"org.apache.hadoop:hadoop-aws:3.3.4,com.amazonaws:aws-java-sdk-bundle:1.12.518\") \\\n",
    "    .getOrCreate()"
   ]
  },
  {
   "cell_type": "code",
   "execution_count": null,
   "metadata": {},
   "outputs": [],
   "source": [
    "amazon_sale_report = spark.read.csv(\n",
    "    path + \"/Amazon Sale Report.csv\", header=True)\n",
    "\n",
    "amazon_sale_report.show()"
   ]
  },
  {
   "cell_type": "markdown",
   "metadata": {},
   "source": [
    "Reformat dataset"
   ]
  },
  {
   "cell_type": "code",
   "execution_count": null,
   "metadata": {},
   "outputs": [],
   "source": [
    "amazon_sale_report = amazon_sale_report.drop('Unnamed: 22', 'index')\n",
    "\n",
    "amazon_sale_report.show()"
   ]
  },
  {
   "cell_type": "markdown",
   "metadata": {},
   "source": [
    "Assume role"
   ]
  },
  {
   "cell_type": "code",
   "execution_count": null,
   "metadata": {},
   "outputs": [],
   "source": [
    "load_dotenv()\n",
    "\n",
    "aws_access_key_id = os.getenv('AWS_ACCESS_KEY_ID')\n",
    "aws_secret_access_key = os.getenv('AWS_SECRET_ACCESS_KEY')\n",
    "aws_default_region = os.getenv('AWS_DEFAULT_REGION')\n",
    "aws_role_arn = os.getenv('AWS_ROLE_ARN')\n",
    "\n",
    "client = boto3.client('sts', aws_access_key_id=aws_access_key_id,\n",
    "                      aws_secret_access_key=aws_secret_access_key)\n",
    "\n",
    "assumed_role_object = client.assume_role(\n",
    "    RoleArn=aws_role_arn,\n",
    "    RoleSessionName=\"WriteParquetSession\"\n",
    ")\n",
    "\n",
    "credentials = assumed_role_object['Credentials']\n",
    "\n",
    "temp_access_key_id = credentials['AccessKeyId']\n",
    "temp_secret_access_key = credentials['SecretAccessKey']\n",
    "temp_session_token = credentials['SessionToken']"
   ]
  },
  {
   "cell_type": "code",
   "execution_count": 7,
   "metadata": {},
   "outputs": [],
   "source": [
    "hadoop_conf = spark._jsc.hadoopConfiguration()\n",
    "hadoop_conf.set('fs.s3a.access.key', temp_access_key_id)\n",
    "hadoop_conf.set('fs.s3a.secret.key', temp_secret_access_key)\n",
    "hadoop_conf.set('fs.s3a.session.token', temp_session_token)\n",
    "hadoop_conf.set('fs.s3a.endpoint', f's3.{aws_default_region}.amazonaws.com')"
   ]
  },
  {
   "cell_type": "markdown",
   "metadata": {},
   "source": [
    "Save the raw dataset in Storage S3-like"
   ]
  },
  {
   "cell_type": "code",
   "execution_count": null,
   "metadata": {},
   "outputs": [],
   "source": [
    "s3_bucket = \"s3a://amazon-sales\"\n",
    "\n",
    "current_datetime = datetime.now().strftime(\"%Y-%m-%d-%H-%M-%S\")\n",
    "s3_path = f\"{s3_bucket}/bronze/pos/sales_transactions/{current_datetime}/data.parquet\"\n",
    "\n",
    "amazon_sale_report.write.parquet(s3_path)"
   ]
  }
 ],
 "metadata": {
  "kernelspec": {
   "display_name": "pyspark-parquet-6CjWbukC-py3.11",
   "language": "python",
   "name": "python3"
  },
  "language_info": {
   "codemirror_mode": {
    "name": "ipython",
    "version": 3
   },
   "file_extension": ".py",
   "mimetype": "text/x-python",
   "name": "python",
   "nbconvert_exporter": "python",
   "pygments_lexer": "ipython3",
   "version": "3.11.8"
  }
 },
 "nbformat": 4,
 "nbformat_minor": 2
}
