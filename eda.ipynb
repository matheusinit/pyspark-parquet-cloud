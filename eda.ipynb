{
 "cells": [
  {
   "cell_type": "markdown",
   "metadata": {},
   "source": [
    "Download Dataset"
   ]
  },
  {
   "cell_type": "code",
   "execution_count": 2,
   "metadata": {},
   "outputs": [],
   "source": [
    "import kagglehub\n",
    "from pyspark.sql import SparkSession"
   ]
  },
  {
   "cell_type": "code",
   "execution_count": 1,
   "metadata": {},
   "outputs": [
    {
     "name": "stderr",
     "output_type": "stream",
     "text": [
      "/home/suetham/.cache/pypoetry/virtualenvs/pyspark-parquet-6CjWbukC-py3.11/lib/python3.11/site-packages/tqdm/auto.py:21: TqdmWarning: IProgress not found. Please update jupyter and ipywidgets. See https://ipywidgets.readthedocs.io/en/stable/user_install.html\n",
      "  from .autonotebook import tqdm as notebook_tqdm\n"
     ]
    },
    {
     "name": "stdout",
     "output_type": "stream",
     "text": [
      "Downloading from https://www.kaggle.com/api/v1/datasets/download/thedevastator/unlock-profits-with-e-commerce-sales-data?dataset_version_number=2...\n"
     ]
    },
    {
     "name": "stderr",
     "output_type": "stream",
     "text": [
      "100%|██████████| 6.33M/6.33M [00:01<00:00, 4.53MB/s]"
     ]
    },
    {
     "name": "stdout",
     "output_type": "stream",
     "text": [
      "Extracting files...\n"
     ]
    },
    {
     "name": "stderr",
     "output_type": "stream",
     "text": [
      "\n"
     ]
    },
    {
     "name": "stdout",
     "output_type": "stream",
     "text": [
      "Path to dataset files: /home/suetham/.cache/kagglehub/datasets/thedevastator/unlock-profits-with-e-commerce-sales-data/versions/2\n"
     ]
    }
   ],
   "source": [
    "repository = \"thedevastator/unlock-profits-with-e-commerce-sales-data\"\n",
    "\n",
    "path = kagglehub.dataset_download(repository)\n",
    "\n",
    "print(\"Path to dataset files:\", path)"
   ]
  },
  {
   "cell_type": "code",
   "execution_count": 3,
   "metadata": {},
   "outputs": [
    {
     "name": "stderr",
     "output_type": "stream",
     "text": [
      "24/12/23 09:11:19 WARN Utils: Your hostname, suetham-linux resolves to a loopback address: 127.0.1.1; using 10.0.0.172 instead (on interface wlo1)\n",
      "24/12/23 09:11:19 WARN Utils: Set SPARK_LOCAL_IP if you need to bind to another address\n",
      "Setting default log level to \"WARN\".\n",
      "To adjust logging level use sc.setLogLevel(newLevel). For SparkR, use setLogLevel(newLevel).\n",
      "24/12/23 09:11:20 WARN NativeCodeLoader: Unable to load native-hadoop library for your platform... using builtin-java classes where applicable\n"
     ]
    }
   ],
   "source": [
    "spark = SparkSession.builder.appName(\"Amazon Sales Data\").getOrCreate()"
   ]
  },
  {
   "cell_type": "code",
   "execution_count": 4,
   "metadata": {},
   "outputs": [
    {
     "name": "stderr",
     "output_type": "stream",
     "text": [
      "                                                                                \r"
     ]
    },
    {
     "name": "stdout",
     "output_type": "stream",
     "text": [
      "+-----+-------------------+--------+--------------------+----------+--------------+------------------+--------+-------------------+-------------+----+----------+--------------+---+--------+------+-----------+--------------+----------------+------------+--------------------+-----+------------+-----------+\n",
      "|index|           Order ID|    Date|              Status|Fulfilment|Sales Channel |ship-service-level|   Style|                SKU|     Category|Size|      ASIN|Courier Status|Qty|currency|Amount|  ship-city|    ship-state|ship-postal-code|ship-country|       promotion-ids|  B2B|fulfilled-by|Unnamed: 22|\n",
      "+-----+-------------------+--------+--------------------+----------+--------------+------------------+--------+-------------------+-------------+----+----------+--------------+---+--------+------+-----------+--------------+----------------+------------+--------------------+-----+------------+-----------+\n",
      "|    0|405-8078784-5731545|04-30-22|           Cancelled|  Merchant|     Amazon.in|          Standard|  SET389|     SET389-KR-NP-S|          Set|   S|B09KXVBD7Z|          NULL|  0|     INR|647.62|     MUMBAI|   MAHARASHTRA|        400081.0|          IN|                NULL|False|   Easy Ship|       NULL|\n",
      "|    1|171-9198151-1101146|04-30-22|Shipped - Deliver...|  Merchant|     Amazon.in|          Standard| JNE3781|    JNE3781-KR-XXXL|        kurta| 3XL|B09K3WFS32|       Shipped|  1|     INR| 406.0|  BENGALURU|     KARNATAKA|        560085.0|          IN|Amazon PLCC Free-...|False|   Easy Ship|       NULL|\n",
      "|    2|404-0687676-7273146|04-30-22|             Shipped|    Amazon|     Amazon.in|         Expedited| JNE3371|      JNE3371-KR-XL|        kurta|  XL|B07WV4JV4D|       Shipped|  1|     INR| 329.0|NAVI MUMBAI|   MAHARASHTRA|        410210.0|          IN|IN Core Free Ship...| True|        NULL|       NULL|\n",
      "|    3|403-9615377-8133951|04-30-22|           Cancelled|  Merchant|     Amazon.in|          Standard|   J0341|         J0341-DR-L|Western Dress|   L|B099NRCT7B|          NULL|  0|     INR|753.33| PUDUCHERRY|    PUDUCHERRY|        605008.0|          IN|                NULL|False|   Easy Ship|       NULL|\n",
      "|    4|407-1069790-7240320|04-30-22|             Shipped|    Amazon|     Amazon.in|         Expedited| JNE3671|    JNE3671-TU-XXXL|          Top| 3XL|B098714BZP|       Shipped|  1|     INR| 574.0|    CHENNAI|    TAMIL NADU|        600073.0|          IN|                NULL|False|        NULL|       NULL|\n",
      "|    5|404-1490984-4578765|04-30-22|             Shipped|    Amazon|     Amazon.in|         Expedited|  SET264|    SET264-KR-NP-XL|          Set|  XL|B08YN7XDSG|       Shipped|  1|     INR| 824.0|  GHAZIABAD| UTTAR PRADESH|        201102.0|          IN|IN Core Free Ship...|False|        NULL|       NULL|\n",
      "|    6|408-5748499-6859555|04-30-22|             Shipped|    Amazon|     Amazon.in|         Expedited|   J0095|        J0095-SET-L|          Set|   L|B08CMHNWBN|       Shipped|  1|     INR| 653.0| CHANDIGARH|    CHANDIGARH|        160036.0|          IN|IN Core Free Ship...|False|        NULL|       NULL|\n",
      "|    7|406-7807733-3785945|04-30-22|Shipped - Deliver...|  Merchant|     Amazon.in|          Standard| JNE3405|       JNE3405-KR-S|        kurta|   S|B081WX4G4Q|       Shipped|  1|     INR| 399.0|  HYDERABAD|     TELANGANA|        500032.0|          IN|Amazon PLCC Free-...|False|   Easy Ship|       NULL|\n",
      "|    8|407-5443024-5233168|04-30-22|           Cancelled|    Amazon|     Amazon.in|         Expedited|  SET200|SET200-KR-NP-A-XXXL|          Set| 3XL|B08L91ZZXN|     Cancelled|  0|    NULL|  NULL|  HYDERABAD|     TELANGANA|        500008.0|          IN|IN Core Free Ship...|False|        NULL|       NULL|\n",
      "|    9|402-4393761-0311520|04-30-22|             Shipped|    Amazon|     Amazon.in|         Expedited| JNE3461|     JNE3461-KR-XXL|        kurta| XXL|B08B3XF5MH|       Shipped|  1|     INR| 363.0|    Chennai|    TAMIL NADU|        600041.0|          IN|                NULL|False|        NULL|       NULL|\n",
      "|   10|407-5633625-6970741|04-30-22|             Shipped|    Amazon|     Amazon.in|         Expedited| JNE3160|     JNE3160-KR-G-S|        kurta|   S|B07K3YQLF1|       Shipped|  1|     INR| 685.0|    CHENNAI|    TAMIL NADU|        600073.0|          IN|                NULL|False|        NULL|       NULL|\n",
      "|   11|171-4638481-6326716|04-30-22|             Shipped|    Amazon|     Amazon.in|         Expedited| JNE3500|      JNE3500-KR-XS|        kurta|  XS|B098117DJ3|       Shipped|  1|     INR| 364.0|      NOIDA| UTTAR PRADESH|        201303.0|          IN|                NULL|False|        NULL|       NULL|\n",
      "|   12|405-5513694-8146768|04-30-22|Shipped - Deliver...|  Merchant|     Amazon.in|          Standard| JNE3405|      JNE3405-KR-XS|        kurta|  XS|B081XCMYXJ|       Shipped|  1|     INR| 399.0|  Amravati.|   MAHARASHTRA|        444606.0|          IN|Amazon PLCC Free-...|False|   Easy Ship|       NULL|\n",
      "|   13|408-7955685-3083534|04-30-22|             Shipped|    Amazon|     Amazon.in|         Expedited|  SET182|    SET182-KR-DH-XS|          Set|  XS|B085HS947T|       Shipped|  1|     INR| 657.0|     MUMBAI|   MAHARASHTRA|        400053.0|          IN|                NULL|False|        NULL|       NULL|\n",
      "|   14|408-1298370-1920302|04-30-22|Shipped - Deliver...|  Merchant|     Amazon.in|          Standard|   J0351|        J0351-SET-L|          Set|   L|B09CSSQY4F|       Shipped|  1|     INR| 771.0|     MUMBAI|   MAHARASHTRA|        400053.0|          IN|Amazon PLCC Free-...|False|   Easy Ship|       NULL|\n",
      "|   15|403-4965581-9520319|04-30-22|Shipped - Deliver...|  Merchant|     Amazon.in|          Standard|PJNE3368|    PJNE3368-KR-6XL|        kurta| 6XL|B09PY99SVJ|       Shipped|  1|     INR| 544.0|   GUNTAKAL|ANDHRA PRADESH|        515801.0|          IN|Amazon PLCC Free-...|False|   Easy Ship|       NULL|\n",
      "|   16|406-9379318-6555504|04-30-22|             Shipped|    Amazon|     Amazon.in|         Expedited| JNE3721|     JNE3721-KR-XXL|        kurta| XXL|B099FCT65D|       Shipped|  1|     INR| 329.0|     JAIPUR|     RAJASTHAN|        302020.0|          IN|IN Core Free Ship...|False|        NULL|       NULL|\n",
      "|   17|405-9013803-8009918|04-30-22|             Shipped|    Amazon|     Amazon.in|         Expedited| JNE3405|      JNE3405-KR-XL|        kurta|  XL|B081WT6GG7|       Shipped|  1|     INR| 399.0|  NEW DELHI|         DELHI|        110074.0|          IN|                NULL|False|        NULL|       NULL|\n",
      "|   18|402-4030358-5835511|04-30-22|Shipped - Deliver...|  Merchant|     Amazon.in|          Standard| JNE3697|     JNE3697-KR-XXL|        kurta| XXL|B098133PV5|       Shipped|  1|     INR| 458.0|    Gurgaon|       HARYANA|        122004.0|          IN|Amazon PLCC Free-...|False|   Easy Ship|       NULL|\n",
      "|   19|405-5957858-1051546|04-30-22|             Shipped|    Amazon|     Amazon.in|         Expedited|  SET254|    SET254-KR-NP-XS|          Set|  XS|B0983DDPL6|       Shipped|  1|     INR| 886.0|  BENGALURU|     KARNATAKA|        560017.0|          IN|                NULL|False|        NULL|       NULL|\n",
      "+-----+-------------------+--------+--------------------+----------+--------------+------------------+--------+-------------------+-------------+----+----------+--------------+---+--------+------+-----------+--------------+----------------+------------+--------------------+-----+------------+-----------+\n",
      "only showing top 20 rows\n",
      "\n"
     ]
    }
   ],
   "source": [
    "amazon_sale_report = spark.read.csv(\n",
    "    path + \"/Amazon Sale Report.csv\", header=True)\n",
    "\n",
    "amazon_sale_report.show()"
   ]
  },
  {
   "cell_type": "markdown",
   "metadata": {},
   "source": [
    "Reformat dataset"
   ]
  },
  {
   "cell_type": "code",
   "execution_count": 6,
   "metadata": {},
   "outputs": [
    {
     "name": "stdout",
     "output_type": "stream",
     "text": [
      "+-------------------+--------+--------------------+----------+--------------+------------------+--------+-------------------+-------------+----+----------+--------------+---+--------+------+-----------+--------------+----------------+------------+--------------------+-----+------------+\n",
      "|           Order ID|    Date|              Status|Fulfilment|Sales Channel |ship-service-level|   Style|                SKU|     Category|Size|      ASIN|Courier Status|Qty|currency|Amount|  ship-city|    ship-state|ship-postal-code|ship-country|       promotion-ids|  B2B|fulfilled-by|\n",
      "+-------------------+--------+--------------------+----------+--------------+------------------+--------+-------------------+-------------+----+----------+--------------+---+--------+------+-----------+--------------+----------------+------------+--------------------+-----+------------+\n",
      "|405-8078784-5731545|04-30-22|           Cancelled|  Merchant|     Amazon.in|          Standard|  SET389|     SET389-KR-NP-S|          Set|   S|B09KXVBD7Z|          NULL|  0|     INR|647.62|     MUMBAI|   MAHARASHTRA|        400081.0|          IN|                NULL|False|   Easy Ship|\n",
      "|171-9198151-1101146|04-30-22|Shipped - Deliver...|  Merchant|     Amazon.in|          Standard| JNE3781|    JNE3781-KR-XXXL|        kurta| 3XL|B09K3WFS32|       Shipped|  1|     INR| 406.0|  BENGALURU|     KARNATAKA|        560085.0|          IN|Amazon PLCC Free-...|False|   Easy Ship|\n",
      "|404-0687676-7273146|04-30-22|             Shipped|    Amazon|     Amazon.in|         Expedited| JNE3371|      JNE3371-KR-XL|        kurta|  XL|B07WV4JV4D|       Shipped|  1|     INR| 329.0|NAVI MUMBAI|   MAHARASHTRA|        410210.0|          IN|IN Core Free Ship...| True|        NULL|\n",
      "|403-9615377-8133951|04-30-22|           Cancelled|  Merchant|     Amazon.in|          Standard|   J0341|         J0341-DR-L|Western Dress|   L|B099NRCT7B|          NULL|  0|     INR|753.33| PUDUCHERRY|    PUDUCHERRY|        605008.0|          IN|                NULL|False|   Easy Ship|\n",
      "|407-1069790-7240320|04-30-22|             Shipped|    Amazon|     Amazon.in|         Expedited| JNE3671|    JNE3671-TU-XXXL|          Top| 3XL|B098714BZP|       Shipped|  1|     INR| 574.0|    CHENNAI|    TAMIL NADU|        600073.0|          IN|                NULL|False|        NULL|\n",
      "|404-1490984-4578765|04-30-22|             Shipped|    Amazon|     Amazon.in|         Expedited|  SET264|    SET264-KR-NP-XL|          Set|  XL|B08YN7XDSG|       Shipped|  1|     INR| 824.0|  GHAZIABAD| UTTAR PRADESH|        201102.0|          IN|IN Core Free Ship...|False|        NULL|\n",
      "|408-5748499-6859555|04-30-22|             Shipped|    Amazon|     Amazon.in|         Expedited|   J0095|        J0095-SET-L|          Set|   L|B08CMHNWBN|       Shipped|  1|     INR| 653.0| CHANDIGARH|    CHANDIGARH|        160036.0|          IN|IN Core Free Ship...|False|        NULL|\n",
      "|406-7807733-3785945|04-30-22|Shipped - Deliver...|  Merchant|     Amazon.in|          Standard| JNE3405|       JNE3405-KR-S|        kurta|   S|B081WX4G4Q|       Shipped|  1|     INR| 399.0|  HYDERABAD|     TELANGANA|        500032.0|          IN|Amazon PLCC Free-...|False|   Easy Ship|\n",
      "|407-5443024-5233168|04-30-22|           Cancelled|    Amazon|     Amazon.in|         Expedited|  SET200|SET200-KR-NP-A-XXXL|          Set| 3XL|B08L91ZZXN|     Cancelled|  0|    NULL|  NULL|  HYDERABAD|     TELANGANA|        500008.0|          IN|IN Core Free Ship...|False|        NULL|\n",
      "|402-4393761-0311520|04-30-22|             Shipped|    Amazon|     Amazon.in|         Expedited| JNE3461|     JNE3461-KR-XXL|        kurta| XXL|B08B3XF5MH|       Shipped|  1|     INR| 363.0|    Chennai|    TAMIL NADU|        600041.0|          IN|                NULL|False|        NULL|\n",
      "|407-5633625-6970741|04-30-22|             Shipped|    Amazon|     Amazon.in|         Expedited| JNE3160|     JNE3160-KR-G-S|        kurta|   S|B07K3YQLF1|       Shipped|  1|     INR| 685.0|    CHENNAI|    TAMIL NADU|        600073.0|          IN|                NULL|False|        NULL|\n",
      "|171-4638481-6326716|04-30-22|             Shipped|    Amazon|     Amazon.in|         Expedited| JNE3500|      JNE3500-KR-XS|        kurta|  XS|B098117DJ3|       Shipped|  1|     INR| 364.0|      NOIDA| UTTAR PRADESH|        201303.0|          IN|                NULL|False|        NULL|\n",
      "|405-5513694-8146768|04-30-22|Shipped - Deliver...|  Merchant|     Amazon.in|          Standard| JNE3405|      JNE3405-KR-XS|        kurta|  XS|B081XCMYXJ|       Shipped|  1|     INR| 399.0|  Amravati.|   MAHARASHTRA|        444606.0|          IN|Amazon PLCC Free-...|False|   Easy Ship|\n",
      "|408-7955685-3083534|04-30-22|             Shipped|    Amazon|     Amazon.in|         Expedited|  SET182|    SET182-KR-DH-XS|          Set|  XS|B085HS947T|       Shipped|  1|     INR| 657.0|     MUMBAI|   MAHARASHTRA|        400053.0|          IN|                NULL|False|        NULL|\n",
      "|408-1298370-1920302|04-30-22|Shipped - Deliver...|  Merchant|     Amazon.in|          Standard|   J0351|        J0351-SET-L|          Set|   L|B09CSSQY4F|       Shipped|  1|     INR| 771.0|     MUMBAI|   MAHARASHTRA|        400053.0|          IN|Amazon PLCC Free-...|False|   Easy Ship|\n",
      "|403-4965581-9520319|04-30-22|Shipped - Deliver...|  Merchant|     Amazon.in|          Standard|PJNE3368|    PJNE3368-KR-6XL|        kurta| 6XL|B09PY99SVJ|       Shipped|  1|     INR| 544.0|   GUNTAKAL|ANDHRA PRADESH|        515801.0|          IN|Amazon PLCC Free-...|False|   Easy Ship|\n",
      "|406-9379318-6555504|04-30-22|             Shipped|    Amazon|     Amazon.in|         Expedited| JNE3721|     JNE3721-KR-XXL|        kurta| XXL|B099FCT65D|       Shipped|  1|     INR| 329.0|     JAIPUR|     RAJASTHAN|        302020.0|          IN|IN Core Free Ship...|False|        NULL|\n",
      "|405-9013803-8009918|04-30-22|             Shipped|    Amazon|     Amazon.in|         Expedited| JNE3405|      JNE3405-KR-XL|        kurta|  XL|B081WT6GG7|       Shipped|  1|     INR| 399.0|  NEW DELHI|         DELHI|        110074.0|          IN|                NULL|False|        NULL|\n",
      "|402-4030358-5835511|04-30-22|Shipped - Deliver...|  Merchant|     Amazon.in|          Standard| JNE3697|     JNE3697-KR-XXL|        kurta| XXL|B098133PV5|       Shipped|  1|     INR| 458.0|    Gurgaon|       HARYANA|        122004.0|          IN|Amazon PLCC Free-...|False|   Easy Ship|\n",
      "|405-5957858-1051546|04-30-22|             Shipped|    Amazon|     Amazon.in|         Expedited|  SET254|    SET254-KR-NP-XS|          Set|  XS|B0983DDPL6|       Shipped|  1|     INR| 886.0|  BENGALURU|     KARNATAKA|        560017.0|          IN|                NULL|False|        NULL|\n",
      "+-------------------+--------+--------------------+----------+--------------+------------------+--------+-------------------+-------------+----+----------+--------------+---+--------+------+-----------+--------------+----------------+------------+--------------------+-----+------------+\n",
      "only showing top 20 rows\n",
      "\n"
     ]
    }
   ],
   "source": [
    "amazon_sale_report = amazon_sale_report.drop('Unnamed: 22', 'index')\n",
    "\n",
    "amazon_sale_report.show()"
   ]
  }
 ],
 "metadata": {
  "kernelspec": {
   "display_name": "pyspark-parquet-6CjWbukC-py3.11",
   "language": "python",
   "name": "python3"
  },
  "language_info": {
   "codemirror_mode": {
    "name": "ipython",
    "version": 3
   },
   "file_extension": ".py",
   "mimetype": "text/x-python",
   "name": "python",
   "nbconvert_exporter": "python",
   "pygments_lexer": "ipython3",
   "version": "3.11.8"
  }
 },
 "nbformat": 4,
 "nbformat_minor": 2
}
